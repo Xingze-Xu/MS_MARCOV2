{
 "cells": [
  {
   "cell_type": "markdown",
   "metadata": {},
   "source": [
    "# BiDaF"
   ]
  },
  {
   "cell_type": "markdown",
   "metadata": {},
   "source": [
    "### More info : www.msmarco.org"
   ]
  },
  {
   "cell_type": "markdown",
   "metadata": {},
   "source": [
    "## Requirements for BiDaF"
   ]
  },
  {
   "cell_type": "raw",
   "metadata": {},
   "source": [
    "Python 3.5\n",
    "CUDA 9.0      # when usng GPU\n",
    "Pytorch       # prefer version > 0.3 \n",
    "h5py\n",
    "nltk\n",
    "spacy"
   ]
  },
  {
   "cell_type": "markdown",
   "metadata": {},
   "source": [
    "### Conda virtual environment setup (Optional)"
   ]
  },
  {
   "cell_type": "markdown",
   "metadata": {},
   "source": [
    "#### Create new environment"
   ]
  },
  {
   "cell_type": "raw",
   "metadata": {},
   "source": [
    "conda create -n <env_name>                                         # change <env_name>, name of your environment\n",
    "conda create -n <env_name> python=3.5 h5py nltk jupyter notebook   # you can add packages"
   ]
  },
  {
   "cell_type": "markdown",
   "metadata": {},
   "source": [
    "#### Activate environment before usage"
   ]
  },
  {
   "cell_type": "raw",
   "metadata": {},
   "source": [
    "source activate <env_name>            # for linux, osx\n",
    "activate <env_name>                   # for window"
   ]
  },
  {
   "cell_type": "markdown",
   "metadata": {},
   "source": [
    "#### Install pytorch"
   ]
  },
  {
   "cell_type": "raw",
   "metadata": {},
   "source": [
    "conda install pytorch                 # for installing latest version (linux-64, osx-64, win-64)\n",
    "conda install -c soumith pytorch      # pytorch 0.3.1 (linux-64, osx-64)\n",
    "conda install -c peterjc123 pytorch   # pytorch 0.3.1 (win-64)"
   ]
  },
  {
   "cell_type": "markdown",
   "metadata": {},
   "source": [
    "#### Install Spacy"
   ]
  },
  {
   "cell_type": "raw",
   "metadata": {},
   "source": [
    "pip install spacy\n",
    "\n",
    "# then install en_core representation\n",
    "pip install https://github.com/explosion/spacy-models/releases/download/en_core_web_lg-2.0.0/en_core_web_lg-2.0.0.tar.gz"
   ]
  },
  {
   "cell_type": "markdown",
   "metadata": {},
   "source": [
    "#### Useful conda commandline"
   ]
  },
  {
   "cell_type": "raw",
   "metadata": {},
   "source": [
    "conda info --envs                     # list of virtual env list you have created\n",
    "conda env list"
   ]
  },
  {
   "cell_type": "raw",
   "metadata": {},
   "source": [
    "conda list                            # list of packages in the env"
   ]
  },
  {
   "cell_type": "markdown",
   "metadata": {},
   "source": [
    "## Setup for BiDaF"
   ]
  },
  {
   "cell_type": "markdown",
   "metadata": {},
   "source": [
    "#### 1. Ensure the mrcqa folder is in your python Path"
   ]
  },
  {
   "cell_type": "raw",
   "metadata": {},
   "source": [
    "export PYTHONPATH=${PYTHONPATH}:~/<Where you saved this folder>/mrcqa"
   ]
  },
  {
   "cell_type": "markdown",
   "metadata": {},
   "source": [
    "For example,"
   ]
  },
  {
   "cell_type": "raw",
   "metadata": {},
   "source": [
    "export PYTHONPATH=${PYTHONPATH}:~/MS_marco/mrcqa"
   ]
  },
  {
   "cell_type": "markdown",
   "metadata": {},
   "source": [
    "#### 2. experiment folder has a copy of the config.yaml file from scripts.\n",
    "Currently, this will only train for 1 epoch and stop. This iis useful for testing and debugging scripts."
   ]
  },
  {
   "cell_type": "markdown",
   "metadata": {},
   "source": [
    "#### 3. MSMARCO v2.1 data is in Data folder\n",
    "Pre-trained word embedings (if needed, e.g. GloVe 42B) save in your $./Data/$ folder."
   ]
  },
  {
   "cell_type": "markdown",
   "metadata": {},
   "source": [
    "#### 4. Try to train a model using the following script\n",
    "Before running following commandline you have to be in the MS_marco/ folder"
   ]
  },
  {
   "cell_type": "raw",
   "metadata": {},
   "source": [
    "python ./scripts/train.py ./experiment ./Data/<chosen training data> --cuda=False                 # cpu\n",
    "python ./scripts/train.py ./experiment ./Data/<chosen training data> --cuda=True                  # gpu\n",
    "python ./scripts/train.py ./experiment ./Data/<chosen training data> --force_restart --cuda=False"
   ]
  },
  {
   "cell_type": "markdown",
   "metadata": {},
   "source": [
    "--force_restart is not strictly required but it is used to ignore any existing $checkpoints$ in your $./experiment/$ folder."
   ]
  },
  {
   "cell_type": "markdown",
   "metadata": {},
   "source": [
    "If using pre-trained word embeddings,"
   ]
  },
  {
   "cell_type": "raw",
   "metadata": {},
   "source": [
    "python scripts/train.py ./experiment ./Data/<chosen training data> --word_rep ./Data/<chosen word embedding> --force_restart --cuda=False"
   ]
  },
  {
   "cell_type": "markdown",
   "metadata": {},
   "source": [
    "#### 5. If your model successfully finnished training then you are ready to start training a full model and experimenting"
   ]
  },
  {
   "cell_type": "markdown",
   "metadata": {},
   "source": [
    "## Training"
   ]
  },
  {
   "cell_type": "markdown",
   "metadata": {},
   "source": [
    "#### Modify BOTH $config.yaml$ file in $./experiment$ folder AND  $./scripts$ file AND ./ file to match your desired paramaters such as training epochs, dropout rate, learning rate etc.\n",
    "and run the following scripts. (same as 4. above)"
   ]
  },
  {
   "cell_type": "raw",
   "metadata": {},
   "source": [
    "python ./scripts/train.py ./experiment ./Data/<chosen training data> --cuda=False"
   ]
  },
  {
   "cell_type": "markdown",
   "metadata": {},
   "source": [
    "## Training Senario 1 -- have checkpoint\n",
    "#### Check your $./experiment$ file and if there is a file called $checkpoint$ without extension (not $checkpoint.opt$ )."
   ]
  },
  {
   "cell_type": "markdown",
   "metadata": {},
   "source": [
    "### a) And you want to resume training,"
   ]
  },
  {
   "cell_type": "raw",
   "metadata": {},
   "source": [
    "python ./scripts/train.py ./experiment ./Data/<chosen training data> --cuda=False"
   ]
  },
  {
   "cell_type": "markdown",
   "metadata": {},
   "source": [
    "### b) You dont want to resume training,"
   ]
  },
  {
   "cell_type": "raw",
   "metadata": {},
   "source": [
    "python ./scripts/train.py ./experiment ./Data/<chosen training data> --force_restart --cuda=False"
   ]
  },
  {
   "cell_type": "markdown",
   "metadata": {},
   "source": [
    "## Training Senario 2 -- do not have checkpoint\n",
    "#### Check your $./experiment$ file and if there is NO file called $checkpoint$ without extension (not $checkpoint.opt$ )."
   ]
  },
  {
   "cell_type": "raw",
   "metadata": {},
   "source": [
    "python ./scripts/train.py ./experiment ./Data/<chosen training data> --cuda=False"
   ]
  },
  {
   "cell_type": "markdown",
   "metadata": {},
   "source": [
    "## Prediction"
   ]
  },
  {
   "cell_type": "markdown",
   "metadata": {},
   "source": [
    "#### To generate a prediction file run the command below.\n",
    "\n",
    "This will load the model and data and predict for all answered questions where the answer is a span. Any new tokens/char will get a random embedding."
   ]
  },
  {
   "cell_type": "raw",
   "metadata": {},
   "source": [
    "python scripts/predict.py ./experiment ./Data/<chosen data for prediction> prediction.json --cuda=False  # cpu\n",
    "python scripts/predict.py ./experiment ./Data/<chosen data for prediction> prediction.json --cuda=True   # gpu"
   ]
  },
  {
   "cell_type": "markdown",
   "metadata": {},
   "source": [
    "To generate new embeddings from your embedding file instead instead of using random embeddings use the following command. (optional)"
   ]
  },
  {
   "cell_type": "raw",
   "metadata": {},
   "source": [
    "python scripts/predict.py ./experiment ./Data/<chosen data for prediction> prediction.json --word_rep ./Data/<chosen word embedding> --cuda=False"
   ]
  },
  {
   "cell_type": "markdown",
   "metadata": {},
   "source": [
    "## Evaluation"
   ]
  },
  {
   "cell_type": "markdown",
   "metadata": {},
   "source": [
    "### Before evaluating the prediction,\n",
    "#### http://localhost:8888/notebooks/MS_marco/data_processing.ipynb#Prediction-data."
   ]
  },
  {
   "cell_type": "markdown",
   "metadata": {},
   "source": [
    "#### Then you should be in the $./Evaluation$ folder and run following script"
   ]
  },
  {
   "cell_type": "raw",
   "metadata": {},
   "source": [
    "./run.sh ../Data/reference.json ../Data/candidate.json"
   ]
  },
  {
   "cell_type": "raw",
   "metadata": {},
   "source": [
    "./run.sh ../Data/<generated reference file> ../Data/<generated candidate file>"
   ]
  },
  {
   "cell_type": "markdown",
   "metadata": {},
   "source": [
    "### Sometimes, there will be an error like,"
   ]
  },
  {
   "cell_type": "raw",
   "metadata": {},
   "source": [
    "Exception: \"{\"query_id\": 91867, \"answers\": [\"C:\\WINDOWS\\system32\\config\\SM Registry Backup.\"]}\n",
    "\" is not a valid json"
   ]
  },
  {
   "cell_type": "markdown",
   "metadata": {},
   "source": [
    "#### Then check the error code, and if it is from"
   ]
  },
  {
   "cell_type": "raw",
   "metadata": {},
   "source": [
    "load_file(p_path_to_reference_file)                                  # ----> Go to ./Data/reference.json\n",
    "candidate_no_answer_query_ids = load_file(p_path_to_candidate_file)  # ----> Go to ./Data/candidate.json"
   ]
  },
  {
   "cell_type": "markdown",
   "metadata": {},
   "source": [
    "#### Find line caused the error by finding the query_id like $\"query\\_id\": 91867$ and fix it to the right format\n",
    "#### Most of the time if you put one more \\ (slash) or remove the character causing error or if the data is separated into two lines, then you can fix the error by combining the data in one line.\n",
    "Do not delete the whole line, then it will cause another error.\n",
    "Do not use jupyter to open the file, use other editor like sublime text or atom which can detect the wrong json format."
   ]
  },
  {
   "cell_type": "markdown",
   "metadata": {},
   "source": [
    "### Output for evaluation will be in the similar format to bellow:"
   ]
  },
  {
   "cell_type": "raw",
   "metadata": {},
   "source": [
    "############################\n",
    "F1: 1.0\n",
    "Semantic_Similarity: 0.7561276694449763\n",
    "bleu_1: 0.4613473375119735\n",
    "bleu_2: 0.4358699088949773\n",
    "bleu_3: 0.4222062580786961\n",
    "bleu_4: 0.41305888231064947\n",
    "rouge_l: 0.46252234746236\n",
    "############################"
   ]
  },
  {
   "cell_type": "markdown",
   "metadata": {},
   "source": [
    "# Data Structure"
   ]
  },
  {
   "cell_type": "markdown",
   "metadata": {},
   "source": [
    "## Training Data"
   ]
  },
  {
   "cell_type": "markdown",
   "metadata": {},
   "source": [
    "#### Training data should look like this, not exactly like this but json pretty, json file which has all of its data in one line doesn't work."
   ]
  },
  {
   "cell_type": "raw",
   "metadata": {},
   "source": [
    "{\n",
    "    \"query_id\": {\n",
    "        \"10\": 1102421,     # .values() of query_id dict is not useful\n",
    "        \"100004\": 90836,   # only query_id .keys() is the query_id\n",
    "        ...\n",
    "        ...\n",
    "    },\n",
    "    \n",
    "    \"query\": {\n",
    "        \"10\": \"why did the progressive movement fail to advance racial equality quizlet\",\n",
    "        \"100004\": \"chart for foods low in potassium.\",\n",
    "        ...\n",
    "        ...\n",
    "    },\n",
    "    \n",
    "    \"answers\": {\n",
    "        \"10\": [\"No Answer Present.\"],\n",
    "        \"100004\": [\"The average cost of a set of brake pads is above $25.\"],\n",
    "        ...\n",
    "        ...\n",
    "    },\n",
    "    \n",
    "    \"passages\": {\n",
    "        \"10\": [{\"is_selected\": 0,\n",
    "                \"passage_text\": \"The Progressive Era spanned the years from 1890 to 1920.\",\n",
    "                \"url\": \"https://www.thoughtco.com/african-americans-in-the-progressive-era-45390\"},\n",
    "               {\"is_selected\": 0,\n",
    "                \"passage_text\": \"1 W.E.B Du Bois was the founder of the Niagara Movement and later the NAACP.\",\n",
    "                \"url\": \"https://www.thoughtco.com/african-americans-in-the-progressive-era-45390\"},\n",
    "             ...\n",
    "             ...\n",
    "             \n",
    "               {\"is_selected\": 0,\n",
    "                \"passage_text\": \"Du Bois disagreed with Washington.\",\n",
    "                \"url\": \"https://www.thoughtco.com/african-americans-in-the-progressive-era-45390\"}],\n",
    "        \"100004\": [{\"is_selected\": 0,\n",
    "                \"passage_text\": \"Low Sodium Low Potassium Foods List.\",\n",
    "                \"url\": \"http://www.etoolsage.com/chart\"},\n",
    "               {\"is_selected\": 0,\n",
    "                \"passage_text\": \"Alleviation of High Blood Pressure (Hypertension) - Studies show that a diet \n",
    "                                    high in potassium, especially potassium from fruits and vegetables, lowers \n",
    "                                    blood pressure.\",\n",
    "                \"url\": \"https://www.healthaliciousness.com/articles/food-sources-of-potassium.php\"},\n",
    "               {\"is_selected\": 0,\n",
    "                \"passage_text\": \"High potassium foods include beans, dark leafy greens, potatoes, squash, yogurt, \n",
    "                                    fish, avocados, mushrooms, and bananas. The current daily value for potassium \n",
    "                                    is 3,500 milligrams (mg).\",\n",
    "                \"url\": \"https://www.healthaliciousness.com/articles/food-sources-of-potassium.php\"},\n",
    "              ...\n",
    "              ...\n",
    "         }\n",
    "    }\n",
    "}"
   ]
  },
  {
   "cell_type": "markdown",
   "metadata": {},
   "source": [
    "## Prediction"
   ]
  },
  {
   "cell_type": "markdown",
   "metadata": {},
   "source": [
    "#### After prediction, $./prediction.json$ file should look like this"
   ]
  },
  {
   "cell_type": "raw",
   "metadata": {},
   "source": [
    "'10190' 'The average cost of a set of brake pads is $ 25–75 .' 0 50\n",
    "'56809' 'This math worksheet will help give your Preschool , Kindergarten , or 1st grader some extra practice writing their numbers from 1-20 .' 0 131\n",
    "\n",
    "...\n",
    "..."
   ]
  },
  {
   "cell_type": "markdown",
   "metadata": {},
   "source": [
    "## Evaluation"
   ]
  },
  {
   "cell_type": "markdown",
   "metadata": {},
   "source": [
    "#### However, to evaluate our prediction, $./prediction.json$ file has to be reformated and $./Data/candidate.json$ and $./Data/reference.json$ has be generated. Please refer to the http://localhost:8888/notebooks/MS_marco/data_processing.ipynb#Prediction-data."
   ]
  },
  {
   "cell_type": "markdown",
   "metadata": {},
   "source": [
    "#### After data processing, $./Data/candidate.json$ file structure"
   ]
  },
  {
   "cell_type": "raw",
   "metadata": {},
   "source": [
    "{\"query_id\": 10190, \"answers\": [\"The average cost of a set of brake pads is $ 25–75 .\"]}\n",
    "{\"query_id\": 56809, \"answers\": [\"This math worksheet will help give your Preschool , Kindergarten , or 1st grader some extra practice writing their numbers from 1-20 .\"]}\n",
    "\n",
    "...\n",
    "..."
   ]
  },
  {
   "cell_type": "markdown",
   "metadata": {},
   "source": [
    "#### $./Data/reference.json$ file structure should be like this, same as the $./Data/candidate.json$ file"
   ]
  },
  {
   "cell_type": "raw",
   "metadata": {},
   "source": [
    "{\"query_id\": 10190, \"answers\": [\"The average cost of a set of brake pads is $25–75. Where rotors are $75–150 a piece.\"]}\n",
    "{\"query_id\": 56809, \"answers\": [\"Kindergarten, or 1st grader some extra practice writing their numbers from 1-20.\"]}\n",
    "\n",
    "...\n",
    "..."
   ]
  }
 ],
 "metadata": {
  "kernelspec": {
   "display_name": "Python 3",
   "language": "python",
   "name": "python3"
  },
  "language_info": {
   "codemirror_mode": {
    "name": "ipython",
    "version": 3
   },
   "file_extension": ".py",
   "mimetype": "text/x-python",
   "name": "python",
   "nbconvert_exporter": "python",
   "pygments_lexer": "ipython3",
   "version": "3.5.5"
  }
 },
 "nbformat": 4,
 "nbformat_minor": 2
}
